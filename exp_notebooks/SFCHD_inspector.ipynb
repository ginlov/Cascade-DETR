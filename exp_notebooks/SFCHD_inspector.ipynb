{
 "cells": [
  {
   "cell_type": "code",
   "execution_count": 1,
   "id": "77cabe5b",
   "metadata": {},
   "outputs": [],
   "source": [
    "import os\n",
    "import sys"
   ]
  },
  {
   "cell_type": "code",
   "execution_count": 2,
   "id": "bb85a894",
   "metadata": {},
   "outputs": [],
   "source": [
    "all_files = os.listdir('../data/SFCHD/QY_final_dataset/images')"
   ]
  },
  {
   "cell_type": "code",
   "execution_count": 4,
   "id": "c6f52ebf",
   "metadata": {},
   "outputs": [
    {
     "data": {
      "text/plain": [
       "12372"
      ]
     },
     "execution_count": 4,
     "metadata": {},
     "output_type": "execute_result"
    }
   ],
   "source": [
    "len(all_files)"
   ]
  },
  {
   "cell_type": "code",
   "execution_count": 5,
   "id": "71852bd0",
   "metadata": {},
   "outputs": [],
   "source": [
    "train_files = os.listdir('../data/SFCHD/QY_final_dataset/yolo/train')"
   ]
  },
  {
   "cell_type": "code",
   "execution_count": 6,
   "id": "c2c42edf",
   "metadata": {},
   "outputs": [
    {
     "data": {
      "text/plain": [
       "9899"
      ]
     },
     "execution_count": 6,
     "metadata": {},
     "output_type": "execute_result"
    }
   ],
   "source": [
    "len(train_files)"
   ]
  },
  {
   "cell_type": "code",
   "execution_count": 7,
   "id": "3d2ea4a8",
   "metadata": {},
   "outputs": [],
   "source": [
    "val_files = os.listdir('../data/SFCHD/QY_final_dataset/yolo/val')"
   ]
  },
  {
   "cell_type": "code",
   "execution_count": 8,
   "id": "e5fe27ca",
   "metadata": {},
   "outputs": [
    {
     "data": {
      "text/plain": [
       "2476"
      ]
     },
     "execution_count": 8,
     "metadata": {},
     "output_type": "execute_result"
    }
   ],
   "source": [
    "len(val_files)"
   ]
  },
  {
   "cell_type": "code",
   "execution_count": 9,
   "id": "274becf7",
   "metadata": {},
   "outputs": [
    {
     "data": {
      "text/plain": [
       "12375"
      ]
     },
     "execution_count": 9,
     "metadata": {},
     "output_type": "execute_result"
    }
   ],
   "source": [
    "9899 + 2476"
   ]
  },
  {
   "cell_type": "code",
   "execution_count": null,
   "id": "70e9fb3b",
   "metadata": {},
   "outputs": [],
   "source": []
  }
 ],
 "metadata": {
  "kernelspec": {
   "display_name": "ece285",
   "language": "python",
   "name": "python3"
  },
  "language_info": {
   "codemirror_mode": {
    "name": "ipython",
    "version": 3
   },
   "file_extension": ".py",
   "mimetype": "text/x-python",
   "name": "python",
   "nbconvert_exporter": "python",
   "pygments_lexer": "ipython3",
   "version": "3.9.5"
  }
 },
 "nbformat": 4,
 "nbformat_minor": 5
}
