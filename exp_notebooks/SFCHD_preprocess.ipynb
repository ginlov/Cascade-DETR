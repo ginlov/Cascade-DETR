{
 "cells": [
  {
   "cell_type": "code",
   "execution_count": 1,
   "id": "b9bc7f04",
   "metadata": {},
   "outputs": [],
   "source": [
    "import os"
   ]
  },
  {
   "cell_type": "code",
   "execution_count": 3,
   "id": "0428bf49",
   "metadata": {},
   "outputs": [],
   "source": [
    "train_files = os.listdir('../data/SFCHD/QY_final_dataset/yolo/train')"
   ]
  },
  {
   "cell_type": "code",
   "execution_count": 5,
   "id": "3604cf10",
   "metadata": {},
   "outputs": [],
   "source": [
    "with open('../data/SFCHD/QY_final_dataset/yolo/train.txt', 'r') as f:\n",
    "    train_files = f.readlines()"
   ]
  },
  {
   "cell_type": "code",
   "execution_count": 7,
   "id": "b20cdb11",
   "metadata": {},
   "outputs": [],
   "source": [
    "train_files = [f.split('/')[-1].strip() for f in train_files]"
   ]
  },
  {
   "cell_type": "code",
   "execution_count": 9,
   "id": "a36862b6",
   "metadata": {},
   "outputs": [
    {
     "data": {
      "text/plain": [
       "'192.168.2.213_neg_12c_139.jpg'"
      ]
     },
     "execution_count": 9,
     "metadata": {},
     "output_type": "execute_result"
    }
   ],
   "source": [
    "train_files[-1]"
   ]
  },
  {
   "cell_type": "code",
   "execution_count": 10,
   "id": "1174a050",
   "metadata": {},
   "outputs": [],
   "source": [
    "with open('../data/SFCHD/QY_final_dataset/yolo/train.txt', 'w') as f:\n",
    "    for file in train_files:\n",
    "        f.write(f'{file}\\n')"
   ]
  },
  {
   "cell_type": "code",
   "execution_count": 11,
   "id": "f8af6057",
   "metadata": {},
   "outputs": [],
   "source": [
    "with open('../data/SFCHD/QY_final_dataset/yolo/val.txt', 'r') as f:\n",
    "    val_files = f.readlines()\n",
    "val_files = [f.split('/')[-1].strip() for f in val_files]"
   ]
  },
  {
   "cell_type": "code",
   "execution_count": null,
   "id": "1e548928",
   "metadata": {},
   "outputs": [],
   "source": [
    "val_files"
   ]
  },
  {
   "cell_type": "code",
   "execution_count": 13,
   "id": "149247f6",
   "metadata": {},
   "outputs": [],
   "source": [
    "with open('../data/SFCHD/QY_final_dataset/yolo/val.txt', 'w') as f:\n",
    "    for file in val_files:\n",
    "        f.write(f'{file}\\n')"
   ]
  },
  {
   "cell_type": "markdown",
   "id": "8560d56a",
   "metadata": {},
   "source": [
    "## Crop image to  1280 * 704"
   ]
  },
  {
   "cell_type": "code",
   "execution_count": 1,
   "id": "352b0d00",
   "metadata": {},
   "outputs": [],
   "source": [
    "with open('../data/SFCHD/QY_final_dataset/yolo/train/192.168.2.20_3.txt', 'r') as f:\n",
    "    data = f.readlines()"
   ]
  },
  {
   "cell_type": "code",
   "execution_count": 2,
   "id": "0dd24367",
   "metadata": {},
   "outputs": [
    {
     "data": {
      "text/plain": [
       "['1 0.089063 0.544744 0.029686999999999984 0.06676100000000011\\n',\n",
       " '3 0.097266 0.62642 0.036719 0.10511399999999997\\n',\n",
       " '0 0.1 0.683949 0.070312 0.333807\\n']"
      ]
     },
     "execution_count": 2,
     "metadata": {},
     "output_type": "execute_result"
    }
   ],
   "source": [
    "data"
   ]
  },
  {
   "cell_type": "markdown",
   "id": "50c6ed54",
   "metadata": {},
   "source": [
    "## Create a mini version of SFCHD"
   ]
  },
  {
   "cell_type": "code",
   "execution_count": 4,
   "id": "1e45c6c2",
   "metadata": {},
   "outputs": [],
   "source": [
    "import os"
   ]
  },
  {
   "cell_type": "code",
   "execution_count": 5,
   "id": "94ccc58a",
   "metadata": {},
   "outputs": [],
   "source": [
    "all_image_files = os.listdir('../data/SFCHD/QY_final_dataset/images')"
   ]
  },
  {
   "cell_type": "code",
   "execution_count": 6,
   "id": "15fa0845",
   "metadata": {},
   "outputs": [],
   "source": [
    "mini_images = all_image_files[:100]"
   ]
  },
  {
   "cell_type": "code",
   "execution_count": 7,
   "id": "a5abf555",
   "metadata": {},
   "outputs": [],
   "source": [
    "import shutil\n",
    "\n",
    "src_folder = '../data/SFCHD/QY_final_dataset/images'\n",
    "dst_folder = '../data/miniSFCHD/images'\n",
    "os.makedirs(dst_folder, exist_ok=True)\n",
    "\n",
    "for img_name in mini_images:\n",
    "    src_path = os.path.join(src_folder, img_name)\n",
    "    dst_path = os.path.join(dst_folder, img_name)\n",
    "    shutil.copy2(src_path, dst_path)"
   ]
  },
  {
   "cell_type": "code",
   "execution_count": 8,
   "id": "5bff1050",
   "metadata": {},
   "outputs": [],
   "source": [
    "text_files = [file.replace('.jpg', '.txt') for file in mini_images]"
   ]
  },
  {
   "cell_type": "code",
   "execution_count": 9,
   "id": "1a1f0b7c",
   "metadata": {},
   "outputs": [],
   "source": [
    "src_train_folder = '../data/SFCHD/QY_final_dataset/yolo/train'\n",
    "src_val_folder = '../data/SFCHD/QY_final_dataset/yolo/val'\n",
    "dst_train_folder = '../data/miniSFCHD/yolo/train'\n",
    "os.makedirs(dst_train_folder, exist_ok=True)\n",
    "\n",
    "for txt_file in text_files:\n",
    "    src_path = os.path.join(src_train_folder, txt_file)\n",
    "    if not os.path.exists(src_path):\n",
    "        src_path = os.path.join(src_val_folder, txt_file)\n",
    "    if os.path.exists(src_path):\n",
    "        dst_path = os.path.join(dst_train_folder, txt_file)\n",
    "        shutil.copy2(src_path, dst_path)\n",
    "    else:\n",
    "        print(f\"Warning: {txt_file} not found in train or val folders.\")"
   ]
  },
  {
   "cell_type": "code",
   "execution_count": 10,
   "id": "d6d73de0",
   "metadata": {},
   "outputs": [],
   "source": [
    "with open('../data/SFCHD/QY_final_dataset/yolo/train.txt', 'w') as f:\n",
    "    for file in mini_images:\n",
    "        f.write(f'{file}\\n')"
   ]
  },
  {
   "cell_type": "code",
   "execution_count": null,
   "id": "f96c9fa6",
   "metadata": {},
   "outputs": [],
   "source": []
  }
 ],
 "metadata": {
  "kernelspec": {
   "display_name": "ece285",
   "language": "python",
   "name": "python3"
  },
  "language_info": {
   "codemirror_mode": {
    "name": "ipython",
    "version": 3
   },
   "file_extension": ".py",
   "mimetype": "text/x-python",
   "name": "python",
   "nbconvert_exporter": "python",
   "pygments_lexer": "ipython3",
   "version": "3.9.5"
  }
 },
 "nbformat": 4,
 "nbformat_minor": 5
}
