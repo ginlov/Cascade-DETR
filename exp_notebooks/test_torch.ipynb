{
 "cells": [
  {
   "cell_type": "code",
   "execution_count": 1,
   "id": "7a2b929d",
   "metadata": {},
   "outputs": [],
   "source": [
    "import torch"
   ]
  },
  {
   "cell_type": "code",
   "execution_count": 4,
   "id": "f7d266f3",
   "metadata": {},
   "outputs": [],
   "source": [
    "a = torch.randn(200, 92)\n",
    "b = torch.randint(0, 20, (9,))"
   ]
  },
  {
   "cell_type": "code",
   "execution_count": 7,
   "id": "e9b5df7e",
   "metadata": {},
   "outputs": [
    {
     "data": {
      "text/plain": [
       "tensor([14, 19,  3,  7, 18, 16, 15, 11,  5])"
      ]
     },
     "execution_count": 7,
     "metadata": {},
     "output_type": "execute_result"
    }
   ],
   "source": [
    "b"
   ]
  },
  {
   "cell_type": "code",
   "execution_count": 6,
   "id": "c0245d63",
   "metadata": {},
   "outputs": [
    {
     "data": {
      "text/plain": [
       "tensor([[-0.1366,  1.4452,  0.8868,  ...,  0.1233,  0.5373, -0.5938],\n",
       "        [ 1.2569,  0.3872, -0.2884,  ...,  0.4921,  1.0374,  0.0759],\n",
       "        [ 0.7238, -2.0176, -1.2206,  ...,  0.8322, -0.7109,  0.6262],\n",
       "        ...,\n",
       "        [-1.2104, -0.3343, -2.2953,  ..., -0.1952, -0.4442,  1.3764],\n",
       "        [-1.1506,  1.6763, -0.5759,  ...,  0.0986, -0.7819,  0.1313],\n",
       "        [-1.8309,  1.1220, -0.2537,  ...,  0.2840,  0.2302, -0.3573]])"
      ]
     },
     "execution_count": 6,
     "metadata": {},
     "output_type": "execute_result"
    }
   ],
   "source": [
    "a[:, b]"
   ]
  },
  {
   "cell_type": "code",
   "execution_count": 8,
   "id": "4bd485e6",
   "metadata": {},
   "outputs": [
    {
     "data": {
      "text/plain": [
       "torch.int64"
      ]
     },
     "execution_count": 8,
     "metadata": {},
     "output_type": "execute_result"
    }
   ],
   "source": [
    "b.dtype"
   ]
  },
  {
   "cell_type": "code",
   "execution_count": null,
   "id": "a977ad22",
   "metadata": {},
   "outputs": [],
   "source": []
  }
 ],
 "metadata": {
  "kernelspec": {
   "display_name": "ece285",
   "language": "python",
   "name": "python3"
  },
  "language_info": {
   "codemirror_mode": {
    "name": "ipython",
    "version": 3
   },
   "file_extension": ".py",
   "mimetype": "text/x-python",
   "name": "python",
   "nbconvert_exporter": "python",
   "pygments_lexer": "ipython3",
   "version": "3.9.5"
  }
 },
 "nbformat": 4,
 "nbformat_minor": 5
}
